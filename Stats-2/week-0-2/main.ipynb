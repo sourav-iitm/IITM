{
 "cells": [
  {
   "cell_type": "markdown",
   "id": "c88fa497",
   "metadata": {},
   "source": [
    "## Basic Python XML parsing using ElementTree\n",
    "\n",
    "I'm using the latest dataset (as xml) available at https://data.gov.in/catalog/all-india-consumer-price-index-ruralurban-0\n",
    "\n",
    "**About the dataset:**\n",
    "\n",
    "This is a dataset for both Rural and Urban Consumer Price Index. Rural, urban, and rural+urban  CPI for each month from June 2013 to May 2023 is given in dataset.xml except for the entry of May 2023 which doesn't have rural+urban CPI data in the original dataset.xml file.\n",
    "\n",
    "**Task performed:**\n",
    "\n",
    "Parse the xml file in python and export separate csv files for the orignal dataset, dataset for urban only, dataset for rural only and dataset for urban+rural only."
   ]
  },
  {
   "cell_type": "markdown",
   "id": "89803284",
   "metadata": {},
   "source": [
    "We'll be working with the python the modules ElementTree and csv. Let's import them first."
   ]
  },
  {
   "cell_type": "code",
   "execution_count": 2,
   "id": "1509184b",
   "metadata": {},
   "outputs": [],
   "source": [
    "import xml.etree.ElementTree as ET\n",
    "import csv"
   ]
  },
  {
   "cell_type": "markdown",
   "id": "10407ab3",
   "metadata": {},
   "source": [
    "We can use the parse() function from the ElementTree module to parse the datafile onto a variable."
   ]
  },
  {
   "cell_type": "code",
   "execution_count": 4,
   "id": "2675cd2f",
   "metadata": {},
   "outputs": [],
   "source": [
    "tree=ET.parse(\"datafile.xml\")"
   ]
  },
  {
   "cell_type": "markdown",
   "id": "ae1ad399",
   "metadata": {},
   "source": [
    "We can use the getroot() function to load the root of the xml onto a  variable. A root is the outermost or the main tag enclosing the contents of an xml file. You can see which tag it saves to the variable by priting it using print(root.tag) after getting the root tag like this below. Printing root.text will print the text contained within the tag or print \"None\" if the tag contains no text. While root is the root xml tag, root[0] refers to the 1st child tag. root[1] as the 2nd child tag, root[0][0] as the child tag of root[0] or grandchild tag of root, and so on."
   ]
  },
  {
   "cell_type": "code",
   "execution_count": 6,
   "id": "e6e85d45",
   "metadata": {},
   "outputs": [
    {
     "name": "stdout",
     "output_type": "stream",
     "text": [
      "None\n"
     ]
    }
   ],
   "source": [
    "root=tree.getroot()"
   ]
  },
  {
   "cell_type": "markdown",
   "id": "7bd338e2",
   "metadata": {},
   "source": [
    "We will now open our csv files for the csv module to write."
   ]
  },
  {
   "cell_type": "code",
   "execution_count": null,
   "id": "b1a2fd23",
   "metadata": {},
   "outputs": [],
   "source": [
    "cpi_com = open('cpi_combined.csv', 'w')\n",
    "cpi_rur = open('cpi_rural.csv', 'w')\n",
    "cpi_urb = open('cpi_urban.csv', 'w')\n",
    "cpi_og  = open('cpi_original.csv','w')\n",
    "csvbth=csv.writer(cpi_com)\n",
    "csvrur=csv.writer(cpi_rur)\n",
    "csvurb=csv.writer(cpi_urb)\n",
    "csog=csv.writer(cpi_og)"
   ]
  },
  {
   "cell_type": "markdown",
   "id": "04b26a66",
   "metadata": {},
   "source": [
    "Let's assign the length of the root to r_tot which we'll need later. The while loop below writes the tags (for the header) to the csv files in the first run. Other loops work similarly with if to separate the rows based on the sector and write the rows to separate csv files using the writerow() function. We could also use the findall function to get the text from the root[x][y] tags but a loop would be better as it has 30 entries within one ROWx tag and we need to fetch all the entries in the ROWx tags."
   ]
  },
  {
   "cell_type": "code",
   "execution_count": null,
   "id": "e17be34c",
   "metadata": {},
   "outputs": [],
   "source": [
    "r_tot=len(root)\n",
    "\n",
    "rnum=0\n",
    "while rnum<=r_tot:\n",
    "    rur_data=[]\n",
    "    com_data=[]\n",
    "    urb_data=[]\n",
    "    og_data=[]\n",
    "    for entry in root.findall('ROW'+str(rnum+1)):\n",
    "        rsz=len(root[rnum])\n",
    "        if rnum==0:\n",
    "            i=0\n",
    "            while i+1<=len(root[0]):\n",
    "                a=root[rnum][i].tag\n",
    "                urb_data.append(a)\n",
    "                com_data.append(a)\n",
    "                rur_data.append(a)\n",
    "                og_data.append(a)\n",
    "                i+=1\n",
    "                            \n",
    "            csvbth.writerow(com_data)\n",
    "            csvurb.writerow(urb_data)\n",
    "            csvrur.writerow(rur_data)\n",
    "            csog.writerow(og_data)\n",
    "                \n",
    "        f=root[rnum][0].text\n",
    "        \n",
    "        rur_data=[]\n",
    "        com_data=[]\n",
    "        urb_data=[]\n",
    "        og_data=[]\n",
    "        \n",
    "        if f=='Urban': \n",
    "            i=0\n",
    "            while i+1<=len(root[rnum]):\n",
    "                a=root[rnum][i].text\n",
    "                urb_data.append(a)\n",
    "                og_data.append(a)\n",
    "                i+=1\n",
    "            csvurb.writerow(urb_data)\n",
    "        \n",
    "        if f=='Rural':\n",
    "            i=0\n",
    "            while i+1<=len(root[rnum]):\n",
    "                a=root[rnum][i].text\n",
    "                rur_data.append(a)\n",
    "                og_data.append(a)\n",
    "                i+=1\n",
    "            csvrur.writerow(rur_data)\n",
    "        \n",
    "        if f=='Rural+Urban':\n",
    "            i=0\n",
    "            while i+1<=len(root[rnum]):\n",
    "                a=root[rnum][i].text\n",
    "                com_data.append(a)\n",
    "                og_data.append(a)\n",
    "                i+=1\n",
    "            csvbth.writerow(com_data)\n",
    "        \n",
    "        \n",
    "        csog.writerow(og_data)                 \n",
    "    rnum+=1 "
   ]
  },
  {
   "cell_type": "markdown",
   "id": "fdf8c949",
   "metadata": {},
   "source": [
    "Now close the csv files using the close function and run the program"
   ]
  },
  {
   "cell_type": "code",
   "execution_count": null,
   "id": "7f2ce216",
   "metadata": {},
   "outputs": [],
   "source": [
    "cpi_com.close()\n",
    "cpi_rur.close()\n",
    "cpi_urb.close()\n",
    "cpi_og.close()"
   ]
  }
 ],
 "metadata": {
  "kernelspec": {
   "display_name": "Python 3 (ipykernel)",
   "language": "python",
   "name": "python3"
  },
  "language_info": {
   "codemirror_mode": {
    "name": "ipython",
    "version": 3
   },
   "file_extension": ".py",
   "mimetype": "text/x-python",
   "name": "python",
   "nbconvert_exporter": "python",
   "pygments_lexer": "ipython3",
   "version": "3.11.5"
  }
 },
 "nbformat": 4,
 "nbformat_minor": 5
}
