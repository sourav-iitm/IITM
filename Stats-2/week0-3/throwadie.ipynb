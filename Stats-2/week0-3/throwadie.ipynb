{
  "nbformat": 4,
  "nbformat_minor": 0,
  "metadata": {
    "colab": {
      "provenance": []
    },
    "kernelspec": {
      "name": "python3",
      "display_name": "Python 3"
    },
    "language_info": {
      "name": "python"
    }
  },
  "cells": [
    {
      "cell_type": "markdown",
      "source": [
        "# Probability of die showing a number.\n",
        "\n",
        "Event E: Probability of a die showing either 1 or 4 when thrown"
      ],
      "metadata": {
        "id": "NAWIe5gISfr7"
      }
    },
    {
      "cell_type": "markdown",
      "source": [
        "Import necessary packages"
      ],
      "metadata": {
        "id": "p3xIgICwUERi"
      }
    },
    {
      "cell_type": "code",
      "execution_count": null,
      "metadata": {
        "id": "hBSwrEwKsdqT"
      },
      "outputs": [],
      "source": [
        "import numpy as np"
      ]
    },
    {
      "cell_type": "markdown",
      "source": [
        "# Function for uniform outcome\n",
        "\n",
        "$n$: number of outcomes in the sample space\n",
        "\n",
        "Output: $m$ outcomes selected uniformly at random from 1 to $n$\n"
      ],
      "metadata": {
        "id": "BpUPoTqUstXu"
      }
    },
    {
      "cell_type": "code",
      "source": [
        "def uniform(n,m):\n",
        "  return np.random.randint(1,n+1,size=m)"
      ],
      "metadata": {
        "id": "i_RwQGSOs0Rf"
      },
      "execution_count": null,
      "outputs": []
    },
    {
      "cell_type": "markdown",
      "source": [
        "# Probability that the number shown after throwing a die is 1 or 4.\n",
        "\n",
        "## Manual Calculations.\n",
        "\n",
        "We have a sample space S={1,2,3,4,5,6} where all the outcomes are equally likely. Probability that the outcome is 1, P(A)=1/6 and for 4, P(B)=1/6. Since these are independent events probability that event E, that the outcome is either 1 or 4, occurs is P(E)=P(A)+P(B)\n",
        "\n",
        "i.e. P(E)=2/6=0.3333\n",
        "\n",
        "## Monte Carlo simulation\n",
        "\n",
        "We will use the Monte Carlo simulation to find the probability that a die shows either 1 or 4.The estimate is close to $P(E)$. Results are more consistent with high number of repetitions. Here we are simulating it 10000 times."
      ],
      "metadata": {
        "id": "s5ViaFfXtAYo"
      }
    },
    {
      "cell_type": "code",
      "source": [
        "no = 0   #variable for storing the number of times the event occurs\n",
        "for i in range(10000): #Total number of repetitions\n",
        "  die = uniform(6,1)  #experiment\n",
        "  if die == 4 or die == 1: #Event\n",
        "    no = no + 1\n",
        "print(no/10000) #probability estimate by Monte Carlo"
      ],
      "metadata": {
        "id": "3XL5MFjvtGG4",
        "outputId": "ef7af082-a6fb-491a-b826-db5683d40b1e",
        "colab": {
          "base_uri": "https://localhost:8080/"
        }
      },
      "execution_count": 7,
      "outputs": [
        {
          "output_type": "stream",
          "name": "stdout",
          "text": [
            "0.3365\n"
          ]
        }
      ]
    },
    {
      "cell_type": "markdown",
      "source": [
        "# Analysis\n",
        "\n",
        "Clearly, the probability calculated by the Monte Carlo simulation, 0.3365, for the event is very close to the probability that was calculated manually, which is 0.333."
      ],
      "metadata": {
        "id": "0I670ZPMXWOO"
      }
    }
  ]
}